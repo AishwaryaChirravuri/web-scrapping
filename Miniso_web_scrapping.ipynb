{
  "nbformat": 4,
  "nbformat_minor": 0,
  "metadata": {
    "colab": {
      "provenance": [],
      "authorship_tag": "ABX9TyOel1PfgWfM3QgjEe0d3vVO"
    },
    "kernelspec": {
      "name": "python3",
      "display_name": "Python 3"
    },
    "language_info": {
      "name": "python"
    }
  },
  "cells": [
    {
      "cell_type": "code",
      "execution_count": null,
      "metadata": {
        "id": "mwpLs4-mrIGG"
      },
      "outputs": [],
      "source": []
    },
    {
      "cell_type": "code",
      "source": [
        "from google.colab import drive\n",
        "drive.mount('/content/drive')"
      ],
      "metadata": {
        "id": "YhP__rkWrMCc"
      },
      "execution_count": null,
      "outputs": []
    },
    {
      "cell_type": "code",
      "source": [
        "from bs4 import BeautifulSoup\n",
        "import requests\n",
        "import smtplib\n",
        "import time\n",
        "import datetime\n"
      ],
      "metadata": {
        "id": "ovHveIv_rN-J"
      },
      "execution_count": null,
      "outputs": []
    },
    {
      "cell_type": "code",
      "source": [
        "#connecting to the website\n",
        "\n",
        "URL = 'https://www.amazon.in/MINISO-Scented-Decoration-Decor-Fabulous-Charming/dp/B09VXN8KYC/ref=sr_1_9?keywords=candle&sr=8-9&th=1'\n",
        "headers = {\"User-Agent\":\"Mozilla/5.0 (Windows NT 10.0; Win64; x64) AppleWebKit/537.36 (KHTML, like Gecko) Chrome/117.0.0.0 Safari/537.36\",\"Accept-Encoding\": \"gzip, deflate, br\", \"Accept\": \"text/html,application/xhtml+xml,application/xml;q=0.9,image/avif,image/webp,image/apng,*/*;q=0.8\", \"DNT\":\"1\", \"Connection\":\"close\", \"Upgrade-Insecure-Requests\":\"1\" }\n",
        "page=requests.get(URL,headers=headers)\n",
        "#this is where it starts getting the data\n",
        "\n",
        "soup1=BeautifulSoup(page.content,'html.parser')#getting in the page data #imp\n",
        "\n",
        "soup2=BeautifulSoup(soup1.prettify(),'html.parser')#pretify() makes things pretty\n",
        "\n",
        "title=soup2.find(id='productTitle').get_text()\n",
        "price=soup2.find(class_='a-price-whole').get_text()\n",
        "\n",
        "print(title)\n",
        "print(price)\n",
        "\n",
        "\n"
      ],
      "metadata": {
        "id": "KgEbEbC_aiDC",
        "colab": {
          "base_uri": "https://localhost:8080/"
        },
        "outputId": "b42e80d5-bea8-46d8-e04f-9afd8f103a36"
      },
      "execution_count": null,
      "outputs": [
        {
          "output_type": "stream",
          "name": "stdout",
          "text": [
            "\n",
            "             MINISO Scented Candles Home Wax Scented Candle Aroma Decoration Candles Gift for Home Decor-Fabulous Day,Pink Rose Charming\n",
            "            \n",
            "\n",
            "                          199\n",
            "                          \n",
            "                           .\n",
            "                          \n",
            "\n"
          ]
        }
      ]
    },
    {
      "cell_type": "code",
      "source": [
        "price= price.strip()[:3]\n",
        "title = title.strip()\n",
        "\n",
        "print(title)\n",
        "print(price)"
      ],
      "metadata": {
        "colab": {
          "base_uri": "https://localhost:8080/"
        },
        "id": "4EkMUOVFLc3Y",
        "outputId": "80f0ecf1-5c5f-4c54-88ee-e292e37de672"
      },
      "execution_count": null,
      "outputs": [
        {
          "output_type": "stream",
          "name": "stdout",
          "text": [
            "MINISO Scented Candles Home Wax Scented Candle Aroma Decoration Candles Gift for Home Decor-Fabulous Day,Pink Rose Charming\n",
            "199\n"
          ]
        }
      ]
    },
    {
      "cell_type": "code",
      "source": [
        "#date and time stamp of when the data is collected\n",
        "import datetime\n",
        "\n",
        "today = datetime.date.today()\n",
        "print(today)\n"
      ],
      "metadata": {
        "colab": {
          "base_uri": "https://localhost:8080/"
        },
        "id": "c9VvQOk-PfvP",
        "outputId": "bac83d28-3e14-420b-facd-cf5a2fec03b7"
      },
      "execution_count": null,
      "outputs": [
        {
          "output_type": "stream",
          "name": "stdout",
          "text": [
            "2023-10-11\n"
          ]
        }
      ]
    },
    {
      "cell_type": "code",
      "source": [
        "import csv\n",
        "\n",
        "header = ['Title' , 'Price', 'Date'] #column names\n",
        "data = [title , price, today]\n",
        "\n",
        "#with open('AmazonWSDataset.csv', 'w', newline='', encoding='UTF8') as f:\n",
        "#  writer= csv.writer(f) #insert data into csv file\n",
        "# writer.writerow(header)\n",
        "#  writer.writerow(data)\n",
        "\n"
      ],
      "metadata": {
        "id": "2OUYPSIrMMdV"
      },
      "execution_count": null,
      "outputs": []
    },
    {
      "cell_type": "code",
      "source": [
        "import pandas as pd\n",
        "df = pd.read_csv('/content/AmazonWSDataset.csv')\n",
        "df.head()\n"
      ],
      "metadata": {
        "colab": {
          "base_uri": "https://localhost:8080/",
          "height": 81
        },
        "id": "ccj33v4ZO3IP",
        "outputId": "8f1c7175-7504-4ee0-e42e-48e6f96788f5"
      },
      "execution_count": null,
      "outputs": [
        {
          "output_type": "execute_result",
          "data": {
            "text/plain": [
              "                                               Title  Price        Date\n",
              "0  MINISO Scented Candles Home Wax Scented Candle...    199  2023-10-11"
            ],
            "text/html": [
              "\n",
              "  <div id=\"df-fc260f74-5325-4055-874d-e9d608f86d7d\" class=\"colab-df-container\">\n",
              "    <div>\n",
              "<style scoped>\n",
              "    .dataframe tbody tr th:only-of-type {\n",
              "        vertical-align: middle;\n",
              "    }\n",
              "\n",
              "    .dataframe tbody tr th {\n",
              "        vertical-align: top;\n",
              "    }\n",
              "\n",
              "    .dataframe thead th {\n",
              "        text-align: right;\n",
              "    }\n",
              "</style>\n",
              "<table border=\"1\" class=\"dataframe\">\n",
              "  <thead>\n",
              "    <tr style=\"text-align: right;\">\n",
              "      <th></th>\n",
              "      <th>Title</th>\n",
              "      <th>Price</th>\n",
              "      <th>Date</th>\n",
              "    </tr>\n",
              "  </thead>\n",
              "  <tbody>\n",
              "    <tr>\n",
              "      <th>0</th>\n",
              "      <td>MINISO Scented Candles Home Wax Scented Candle...</td>\n",
              "      <td>199</td>\n",
              "      <td>2023-10-11</td>\n",
              "    </tr>\n",
              "  </tbody>\n",
              "</table>\n",
              "</div>\n",
              "    <div class=\"colab-df-buttons\">\n",
              "\n",
              "  <div class=\"colab-df-container\">\n",
              "    <button class=\"colab-df-convert\" onclick=\"convertToInteractive('df-fc260f74-5325-4055-874d-e9d608f86d7d')\"\n",
              "            title=\"Convert this dataframe to an interactive table.\"\n",
              "            style=\"display:none;\">\n",
              "\n",
              "  <svg xmlns=\"http://www.w3.org/2000/svg\" height=\"24px\" viewBox=\"0 -960 960 960\">\n",
              "    <path d=\"M120-120v-720h720v720H120Zm60-500h600v-160H180v160Zm220 220h160v-160H400v160Zm0 220h160v-160H400v160ZM180-400h160v-160H180v160Zm440 0h160v-160H620v160ZM180-180h160v-160H180v160Zm440 0h160v-160H620v160Z\"/>\n",
              "  </svg>\n",
              "    </button>\n",
              "\n",
              "  <style>\n",
              "    .colab-df-container {\n",
              "      display:flex;\n",
              "      gap: 12px;\n",
              "    }\n",
              "\n",
              "    .colab-df-convert {\n",
              "      background-color: #E8F0FE;\n",
              "      border: none;\n",
              "      border-radius: 50%;\n",
              "      cursor: pointer;\n",
              "      display: none;\n",
              "      fill: #1967D2;\n",
              "      height: 32px;\n",
              "      padding: 0 0 0 0;\n",
              "      width: 32px;\n",
              "    }\n",
              "\n",
              "    .colab-df-convert:hover {\n",
              "      background-color: #E2EBFA;\n",
              "      box-shadow: 0px 1px 2px rgba(60, 64, 67, 0.3), 0px 1px 3px 1px rgba(60, 64, 67, 0.15);\n",
              "      fill: #174EA6;\n",
              "    }\n",
              "\n",
              "    .colab-df-buttons div {\n",
              "      margin-bottom: 4px;\n",
              "    }\n",
              "\n",
              "    [theme=dark] .colab-df-convert {\n",
              "      background-color: #3B4455;\n",
              "      fill: #D2E3FC;\n",
              "    }\n",
              "\n",
              "    [theme=dark] .colab-df-convert:hover {\n",
              "      background-color: #434B5C;\n",
              "      box-shadow: 0px 1px 3px 1px rgba(0, 0, 0, 0.15);\n",
              "      filter: drop-shadow(0px 1px 2px rgba(0, 0, 0, 0.3));\n",
              "      fill: #FFFFFF;\n",
              "    }\n",
              "  </style>\n",
              "\n",
              "    <script>\n",
              "      const buttonEl =\n",
              "        document.querySelector('#df-fc260f74-5325-4055-874d-e9d608f86d7d button.colab-df-convert');\n",
              "      buttonEl.style.display =\n",
              "        google.colab.kernel.accessAllowed ? 'block' : 'none';\n",
              "\n",
              "      async function convertToInteractive(key) {\n",
              "        const element = document.querySelector('#df-fc260f74-5325-4055-874d-e9d608f86d7d');\n",
              "        const dataTable =\n",
              "          await google.colab.kernel.invokeFunction('convertToInteractive',\n",
              "                                                    [key], {});\n",
              "        if (!dataTable) return;\n",
              "\n",
              "        const docLinkHtml = 'Like what you see? Visit the ' +\n",
              "          '<a target=\"_blank\" href=https://colab.research.google.com/notebooks/data_table.ipynb>data table notebook</a>'\n",
              "          + ' to learn more about interactive tables.';\n",
              "        element.innerHTML = '';\n",
              "        dataTable['output_type'] = 'display_data';\n",
              "        await google.colab.output.renderOutput(dataTable, element);\n",
              "        const docLink = document.createElement('div');\n",
              "        docLink.innerHTML = docLinkHtml;\n",
              "        element.appendChild(docLink);\n",
              "      }\n",
              "    </script>\n",
              "  </div>\n",
              "\n",
              "    </div>\n",
              "  </div>\n"
            ]
          },
          "metadata": {},
          "execution_count": 23
        }
      ]
    },
    {
      "cell_type": "code",
      "source": [
        "#appending data to the csv\n",
        "\n",
        "with open('AmazonWSDataset.csv', 'a+', newline='', encoding='UTF8') as f:\n",
        "  writer= csv.writer(f) #insert data into csv file\n",
        "  writer.writerow(data)"
      ],
      "metadata": {
        "id": "XfCl09BakBxP"
      },
      "execution_count": null,
      "outputs": []
    },
    {
      "cell_type": "code",
      "source": [
        "def check_price():\n",
        "  URL = 'https://www.amazon.in/MINISO-Scented-Decoration-Decor-Fabulous-Charming/dp/B09VXN8KYC/ref=sr_1_9?keywords=candle&sr=8-9&th=1'\n",
        "  headers = {\"User-Agent\":\"Mozilla/5.0 (Windows NT 10.0; Win64; x64) AppleWebKit/537.36 (KHTML, like Gecko) Chrome/117.0.0.0 Safari/537.36\",\"Accept-Encoding\": \"gzip, deflate, br\", \"Accept\": \"text/html,application/xhtml+xml,application/xml;q=0.9,image/avif,image/webp,image/apng,*/*;q=0.8\", \"DNT\":\"1\", \"Connection\":\"close\", \"Upgrade-Insecure-Requests\":\"1\" }\n",
        "  page=requests.get(URL,headers=headers)\n",
        "  #this is where it starts getting the data\n",
        "\n",
        "  soup1=BeautifulSoup(page.content,'html.parser')#getting in the page data #imp\n",
        "\n",
        "  soup2=BeautifulSoup(soup1.prettify(),'html.parser')#pretify() makes things pretty\n",
        "\n",
        "  title=soup2.find(id='productTitle').get_text()\n",
        "  price=soup2.find(class_='a-price-whole').get_text()\n",
        "\n",
        "  price= price.strip()[:3]\n",
        "  title = title.strip()\n",
        "\n",
        "  print(title)\n",
        "  print(price)\n",
        "\n",
        "  import datetime\n",
        "\n",
        "  today = datetime.date.today()\n",
        "  print(today)\n",
        "\n",
        "  import csv\n",
        "\n",
        "  header = ['Title' , 'Price', 'Date'] #column names\n",
        "  data = [title , price, today]\n",
        "\n",
        "  with open('AmazonWSDataset.csv', 'a+', newline='', encoding='UTF8') as f:\n",
        "    writer= csv.writer(f) #insert data into csv file\n",
        "    writer.writerow(data)\n"
      ],
      "metadata": {
        "id": "1kC9aijWkdRO"
      },
      "execution_count": null,
      "outputs": []
    },
    {
      "cell_type": "code",
      "source": [
        "while(True):\n",
        "  check_price()\n",
        "  time.sleep(86400)\n"
      ],
      "metadata": {
        "colab": {
          "base_uri": "https://localhost:8080/",
          "height": 282
        },
        "id": "sD7_ldGql7w-",
        "outputId": "27185e5e-c3d2-4026-dbd3-6f27d1caa26f"
      },
      "execution_count": null,
      "outputs": [
        {
          "output_type": "stream",
          "name": "stdout",
          "text": [
            "MINISO Scented Candles Home Wax Scented Candle Aroma Decoration Candles Gift for Home Decor-Fabulous Day,Pink Rose Charming\n",
            "199\n",
            "2023-10-11\n"
          ]
        },
        {
          "output_type": "error",
          "ename": "KeyboardInterrupt",
          "evalue": "ignored",
          "traceback": [
            "\u001b[0;31m---------------------------------------------------------------------------\u001b[0m",
            "\u001b[0;31mKeyboardInterrupt\u001b[0m                         Traceback (most recent call last)",
            "\u001b[0;32m<ipython-input-30-835c9629c5b9>\u001b[0m in \u001b[0;36m<cell line: 1>\u001b[0;34m()\u001b[0m\n\u001b[1;32m      1\u001b[0m \u001b[0;32mwhile\u001b[0m\u001b[0;34m(\u001b[0m\u001b[0;32mTrue\u001b[0m\u001b[0;34m)\u001b[0m\u001b[0;34m:\u001b[0m\u001b[0;34m\u001b[0m\u001b[0;34m\u001b[0m\u001b[0m\n\u001b[1;32m      2\u001b[0m   \u001b[0mcheck_price\u001b[0m\u001b[0;34m(\u001b[0m\u001b[0;34m)\u001b[0m\u001b[0;34m\u001b[0m\u001b[0;34m\u001b[0m\u001b[0m\n\u001b[0;32m----> 3\u001b[0;31m   \u001b[0mtime\u001b[0m\u001b[0;34m.\u001b[0m\u001b[0msleep\u001b[0m\u001b[0;34m(\u001b[0m\u001b[0;36m86400\u001b[0m\u001b[0;34m)\u001b[0m\u001b[0;34m\u001b[0m\u001b[0;34m\u001b[0m\u001b[0m\n\u001b[0m",
            "\u001b[0;31mKeyboardInterrupt\u001b[0m: "
          ]
        }
      ]
    },
    {
      "cell_type": "code",
      "source": [
        "print(df)"
      ],
      "metadata": {
        "colab": {
          "base_uri": "https://localhost:8080/"
        },
        "id": "gNR0jVxuoIyu",
        "outputId": "b33e526c-2607-4a03-fe6d-0294fa7f37ee"
      },
      "execution_count": null,
      "outputs": [
        {
          "output_type": "stream",
          "name": "stdout",
          "text": [
            "                                               Title  Price        Date\n",
            "0  MINISO Scented Candles Home Wax Scented Candle...    199  2023-10-11\n"
          ]
        }
      ]
    }
  ]
}